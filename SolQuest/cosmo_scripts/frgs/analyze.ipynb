{
 "cells": [
  {
   "cell_type": "code",
   "execution_count": 1,
   "metadata": {},
   "outputs": [
    {
     "name": "stdout",
     "output_type": "stream",
     "text": [
      "35\n",
      "0\n",
      "(127929, 3)\n"
     ]
    },
    {
     "data": {
      "text/html": [
       "<div>\n",
       "<style scoped>\n",
       "    .dataframe tbody tr th:only-of-type {\n",
       "        vertical-align: middle;\n",
       "    }\n",
       "\n",
       "    .dataframe tbody tr th {\n",
       "        vertical-align: top;\n",
       "    }\n",
       "\n",
       "    .dataframe thead th {\n",
       "        text-align: right;\n",
       "    }\n",
       "</style>\n",
       "<table border=\"1\" class=\"dataframe\">\n",
       "  <thead>\n",
       "    <tr style=\"text-align: right;\">\n",
       "      <th></th>\n",
       "      <th>Compound</th>\n",
       "      <th>T</th>\n",
       "      <th>Gsolv</th>\n",
       "    </tr>\n",
       "  </thead>\n",
       "  <tbody>\n",
       "    <tr>\n",
       "      <th>37743</th>\n",
       "      <td>17835639</td>\n",
       "      <td>298.15</td>\n",
       "      <td>-62.81714</td>\n",
       "    </tr>\n",
       "    <tr>\n",
       "      <th>98928</th>\n",
       "      <td>46539202</td>\n",
       "      <td>298.15</td>\n",
       "      <td>-61.06053</td>\n",
       "    </tr>\n",
       "    <tr>\n",
       "      <th>27818</th>\n",
       "      <td>13177597</td>\n",
       "      <td>298.15</td>\n",
       "      <td>-57.04563</td>\n",
       "    </tr>\n",
       "    <tr>\n",
       "      <th>55021</th>\n",
       "      <td>25907079</td>\n",
       "      <td>298.15</td>\n",
       "      <td>-52.85659</td>\n",
       "    </tr>\n",
       "    <tr>\n",
       "      <th>10261</th>\n",
       "      <td>4959561</td>\n",
       "      <td>298.15</td>\n",
       "      <td>-52.77840</td>\n",
       "    </tr>\n",
       "  </tbody>\n",
       "</table>\n",
       "</div>"
      ],
      "text/plain": [
       "       Compound       T     Gsolv\n",
       "37743  17835639  298.15 -62.81714\n",
       "98928  46539202  298.15 -61.06053\n",
       "27818  13177597  298.15 -57.04563\n",
       "55021  25907079  298.15 -52.85659\n",
       "10261   4959561  298.15 -52.77840"
      ]
     },
     "execution_count": 1,
     "metadata": {},
     "output_type": "execute_result"
    }
   ],
   "source": [
    "import numpy as np\n",
    "import matplotlib.pyplot as plt\n",
    "import pandas as pd\n",
    "import seaborn as sns\n",
    "\n",
    "\n",
    "PATH_VSC = \"/data/jan/calculations/database/GDB17/FRGS/water/GDB17_vsc_batch.csv\"\n",
    "PATH_SCICORE = \"/data/jan/calculations/database/GDB17/FRGS/water/GDB17_scicore_batch.csv\"\n",
    "\n",
    "FRGS = pd.concat([pd.read_csv(PATH_VSC), pd.read_csv(PATH_SCICORE)])\n",
    "print(FRGS.duplicated(subset=[\"Compound\"]).sum())\n",
    "FRGS.drop_duplicates(subset=[\"Compound\"],inplace=True)\n",
    "print(FRGS.duplicated(subset=[\"Compound\"]).sum())\n",
    "\n",
    "FRGS.head()\n",
    "print(FRGS.shape)\n",
    "FRGS.describe()\n",
    "\n",
    "FRGS.sort_values(by=[\"Gsolv\"], ascending=[True]).head()\n"
   ]
  },
  {
   "cell_type": "code",
   "execution_count": 2,
   "metadata": {},
   "outputs": [
    {
     "data": {
      "text/html": [
       "<div>\n",
       "<style scoped>\n",
       "    .dataframe tbody tr th:only-of-type {\n",
       "        vertical-align: middle;\n",
       "    }\n",
       "\n",
       "    .dataframe tbody tr th {\n",
       "        vertical-align: top;\n",
       "    }\n",
       "\n",
       "    .dataframe thead th {\n",
       "        text-align: right;\n",
       "    }\n",
       "</style>\n",
       "<table border=\"1\" class=\"dataframe\">\n",
       "  <thead>\n",
       "    <tr style=\"text-align: right;\">\n",
       "      <th></th>\n",
       "      <th>Compound</th>\n",
       "      <th>T</th>\n",
       "      <th>Gsolv</th>\n",
       "    </tr>\n",
       "  </thead>\n",
       "  <tbody>\n",
       "    <tr>\n",
       "      <th>31419</th>\n",
       "      <td>14870270</td>\n",
       "      <td>298.15</td>\n",
       "      <td>9.28312</td>\n",
       "    </tr>\n",
       "    <tr>\n",
       "      <th>82307</th>\n",
       "      <td>38773064</td>\n",
       "      <td>298.15</td>\n",
       "      <td>8.40019</td>\n",
       "    </tr>\n",
       "    <tr>\n",
       "      <th>49680</th>\n",
       "      <td>23412098</td>\n",
       "      <td>298.15</td>\n",
       "      <td>8.32164</td>\n",
       "    </tr>\n",
       "    <tr>\n",
       "      <th>1011</th>\n",
       "      <td>495168</td>\n",
       "      <td>298.15</td>\n",
       "      <td>7.57655</td>\n",
       "    </tr>\n",
       "    <tr>\n",
       "      <th>31858</th>\n",
       "      <td>15084083</td>\n",
       "      <td>298.15</td>\n",
       "      <td>7.55681</td>\n",
       "    </tr>\n",
       "  </tbody>\n",
       "</table>\n",
       "</div>"
      ],
      "text/plain": [
       "       Compound       T    Gsolv\n",
       "31419  14870270  298.15  9.28312\n",
       "82307  38773064  298.15  8.40019\n",
       "49680  23412098  298.15  8.32164\n",
       "1011     495168  298.15  7.57655\n",
       "31858  15084083  298.15  7.55681"
      ]
     },
     "execution_count": 2,
     "metadata": {},
     "output_type": "execute_result"
    }
   ],
   "source": [
    "FRGS.sort_values(by=[\"Gsolv\"], ascending=[False]).head()"
   ]
  },
  {
   "cell_type": "code",
   "execution_count": 3,
   "metadata": {},
   "outputs": [
    {
     "data": {
      "text/plain": [
       "127929"
      ]
     },
     "execution_count": 3,
     "metadata": {},
     "output_type": "execute_result"
    }
   ],
   "source": [
    "len(FRGS[\"Compound\"].values)\n"
   ]
  },
  {
   "cell_type": "code",
   "execution_count": 3,
   "metadata": {},
   "outputs": [
    {
     "data": {
      "text/plain": [
       "127929"
      ]
     },
     "execution_count": 3,
     "metadata": {},
     "output_type": "execute_result"
    }
   ],
   "source": [
    "len(np.unique(FRGS[\"Compound\"].values))"
   ]
  },
  {
   "cell_type": "code",
   "execution_count": 4,
   "metadata": {},
   "outputs": [
    {
     "data": {
      "text/plain": [
       "<seaborn.axisgrid.FacetGrid at 0x7fb710140d30>"
      ]
     },
     "execution_count": 4,
     "metadata": {},
     "output_type": "execute_result"
    },
    {
     "data": {
      "image/png": "[encoded data removed]",
      "text/plain": [
       "<Figure size 604.8x504 with 1 Axes>"
      ]
     },
     "metadata": {
      "needs_background": "light"
     },
     "output_type": "display_data"
    }
   ],
   "source": [
    "#test if value is missing in the dataframe\n",
    "FRGS.isna().sum().sum()\n",
    "\n",
    "sns.displot(data=FRGS, kind='hist',\n",
    "            x='Gsolv',\n",
    "            height=7, aspect=1.2)"
   ]
  },
  {
   "cell_type": "code",
   "execution_count": 5,
   "metadata": {},
   "outputs": [
    {
     "data": {
      "text/plain": [
       "<AxesSubplot:ylabel='Gsolv'>"
      ]
     },
     "execution_count": 5,
     "metadata": {},
     "output_type": "execute_result"
    },
    {
     "data": {
      "image/png": "[encoded data removed]",
      "text/plain": [
       "<Figure size 720x432 with 1 Axes>"
      ]
     },
     "metadata": {
      "needs_background": "light"
     },
     "output_type": "display_data"
    }
   ],
   "source": [
    "plt.figure(figsize=(10,6))\n",
    "sns.boxplot(data=FRGS, y='Gsolv',width=0.5)"
   ]
  }
 ],
 "metadata": {
  "kernelspec": {
   "display_name": "Python 3.8.5 ('base')",
   "language": "python",
   "name": "python3"
  },
  "language_info": {
   "codemirror_mode": {
    "name": "ipython",
    "version": 3
   },
   "file_extension": ".py",
   "mimetype": "text/x-python",
   "name": "python",
   "nbconvert_exporter": "python",
   "pygments_lexer": "ipython3",
   "version": "3.8.5"
  },
  "orig_nbformat": 4,
  "vscode": {
   "interpreter": {
    "hash": "89e5f0082b27320a6cecf876e61c6909dec86d607376eeaabead3b28d0bb139f"
   }
  }
 },
 "nbformat": 4,
 "nbformat_minor": 2
}
